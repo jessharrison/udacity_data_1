{
 "cells": [
  {
   "cell_type": "code",
   "execution_count": 2,
   "metadata": {
    "collapsed": true
   },
   "outputs": [],
   "source": [
    "import unicodecsv\n",
    "    \n",
    "def read_csv(filename):\n",
    "    with open(filename, 'rb') as f:\n",
    "        reader = unicodecsv.DictReader(f)\n",
    "        return list(reader)\n",
    "    \n",
    "enrollments = read_csv('./enrollments.csv')\n",
    "daily_engagement = read_csv('./daily_engagement.csv')\n",
    "project_submissions = read_csv('./project_submissions.csv')\n"
   ]
  },
  {
   "cell_type": "code",
   "execution_count": 3,
   "metadata": {
    "collapsed": true
   },
   "outputs": [],
   "source": [
    "from datetime import datetime as dt\n",
    "\n",
    "def parse_date(date):\n",
    "    if date == '':\n",
    "        return None\n",
    "    else:\n",
    "        return dt.strptime(date,'%Y-%m-%d')\n",
    "    \n",
    "def parse_maybe_int(i):\n",
    "    if i == '':\n",
    "        return None\n",
    "    else:\n",
    "        return int(i)\n",
    "    \n",
    "def parse_boolean(string):\n",
    "    if string == 'True':\n",
    "        return True\n",
    "    elif string == 'False':\n",
    "        return False\n",
    "    else:\n",
    "        return None"
   ]
  },
  {
   "cell_type": "code",
   "execution_count": 4,
   "metadata": {
    "collapsed": true
   },
   "outputs": [],
   "source": [
    "for enrollment in enrollments:\n",
    "    enrollment['cancel_date'] = parse_date(enrollment['cancel_date'])\n",
    "    enrollment['days_to_cancel'] = parse_maybe_int(enrollment['days_to_cancel'])\n",
    "    enrollment['is_canceled'] = parse_boolean(enrollment['is_canceled'])\n",
    "    enrollment['is_udacity'] = parse_boolean(enrollment['is_udacity'])\n",
    "    enrollment['join_date'] = parse_date(enrollment['join_date'])"
   ]
  },
  {
   "cell_type": "code",
   "execution_count": 5,
   "metadata": {
    "collapsed": true
   },
   "outputs": [],
   "source": [
    "for engagement_record in daily_engagement:\n",
    "    engagement_record['lessons_completed'] = int(float(engagement_record['lessons_completed']))\n",
    "    engagement_record['num_courses_visited'] = int(float(engagement_record['num_courses_visited']))\n",
    "    engagement_record['projects_completed'] = int(float(engagement_record['projects_completed']))\n",
    "    engagement_record['total_minutes_visited'] = int(float(engagement_record['total_minutes_visited']))\n",
    "    engagement_record['utc_date'] = parse_date(engagement_record['utc_date'])"
   ]
  },
  {
   "cell_type": "code",
   "execution_count": 74,
   "metadata": {},
   "outputs": [
    {
     "ename": "TypeError",
     "evalue": "strptime() argument 1 must be string, not datetime.datetime",
     "output_type": "error",
     "traceback": [
      "\u001b[0;31m---------------------------------------------------------------------------\u001b[0m",
      "\u001b[0;31mTypeError\u001b[0m                                 Traceback (most recent call last)",
      "\u001b[0;32m<ipython-input-74-3d7197e210e5>\u001b[0m in \u001b[0;36m<module>\u001b[0;34m()\u001b[0m\n\u001b[1;32m      1\u001b[0m \u001b[0;32mfor\u001b[0m \u001b[0msubmission\u001b[0m \u001b[0;32min\u001b[0m \u001b[0mproject_submissions\u001b[0m\u001b[0;34m:\u001b[0m\u001b[0;34m\u001b[0m\u001b[0m\n\u001b[0;32m----> 2\u001b[0;31m     \u001b[0msubmission\u001b[0m\u001b[0;34m[\u001b[0m\u001b[0;34m'completion_date'\u001b[0m\u001b[0;34m]\u001b[0m \u001b[0;34m=\u001b[0m \u001b[0mparse_date\u001b[0m\u001b[0;34m(\u001b[0m\u001b[0msubmission\u001b[0m\u001b[0;34m[\u001b[0m\u001b[0;34m'completion_date'\u001b[0m\u001b[0;34m]\u001b[0m\u001b[0;34m)\u001b[0m\u001b[0;34m\u001b[0m\u001b[0m\n\u001b[0m\u001b[1;32m      3\u001b[0m     \u001b[0msubmission\u001b[0m\u001b[0;34m[\u001b[0m\u001b[0;34m'creation_date'\u001b[0m\u001b[0;34m]\u001b[0m \u001b[0;34m=\u001b[0m \u001b[0mparse_date\u001b[0m\u001b[0;34m(\u001b[0m\u001b[0msubmission\u001b[0m\u001b[0;34m[\u001b[0m\u001b[0;34m'creation_date'\u001b[0m\u001b[0;34m]\u001b[0m\u001b[0;34m)\u001b[0m\u001b[0;34m\u001b[0m\u001b[0m\n",
      "\u001b[0;32m<ipython-input-3-1d0205bce06d>\u001b[0m in \u001b[0;36mparse_date\u001b[0;34m(date)\u001b[0m\n\u001b[1;32m      5\u001b[0m         \u001b[0;32mreturn\u001b[0m \u001b[0mNone\u001b[0m\u001b[0;34m\u001b[0m\u001b[0m\n\u001b[1;32m      6\u001b[0m     \u001b[0;32melse\u001b[0m\u001b[0;34m:\u001b[0m\u001b[0;34m\u001b[0m\u001b[0m\n\u001b[0;32m----> 7\u001b[0;31m         \u001b[0;32mreturn\u001b[0m \u001b[0mdt\u001b[0m\u001b[0;34m.\u001b[0m\u001b[0mstrptime\u001b[0m\u001b[0;34m(\u001b[0m\u001b[0mdate\u001b[0m\u001b[0;34m,\u001b[0m\u001b[0;34m'%Y-%m-%d'\u001b[0m\u001b[0;34m)\u001b[0m\u001b[0;34m\u001b[0m\u001b[0m\n\u001b[0m\u001b[1;32m      8\u001b[0m \u001b[0;34m\u001b[0m\u001b[0m\n\u001b[1;32m      9\u001b[0m \u001b[0;32mdef\u001b[0m \u001b[0mparse_maybe_int\u001b[0m\u001b[0;34m(\u001b[0m\u001b[0mi\u001b[0m\u001b[0;34m)\u001b[0m\u001b[0;34m:\u001b[0m\u001b[0;34m\u001b[0m\u001b[0m\n",
      "\u001b[0;31mTypeError\u001b[0m: strptime() argument 1 must be string, not datetime.datetime"
     ]
    }
   ],
   "source": [
    "for submission in project_submissions:\n",
    "    submission['completion_date'] = parse_date(submission['completion_date'])\n",
    "    submission['creation_date'] = parse_date(submission['creation_date'])"
   ]
  },
  {
   "cell_type": "code",
   "execution_count": 75,
   "metadata": {
    "scrolled": true
   },
   "outputs": [
    {
     "data": {
      "text/plain": [
       "{u'account_key': u'448',\n",
       " u'cancel_date': datetime.datetime(2015, 1, 14, 0, 0),\n",
       " u'days_to_cancel': 65,\n",
       " u'is_canceled': True,\n",
       " u'is_udacity': True,\n",
       " u'join_date': datetime.datetime(2014, 11, 10, 0, 0),\n",
       " u'status': u'canceled'}"
      ]
     },
     "execution_count": 75,
     "metadata": {},
     "output_type": "execute_result"
    }
   ],
   "source": [
    "enrollments[0]"
   ]
  },
  {
   "cell_type": "code",
   "execution_count": 76,
   "metadata": {},
   "outputs": [
    {
     "data": {
      "text/plain": [
       "{'account_key': u'0',\n",
       " 'has_visited': 1,\n",
       " u'lessons_completed': 0,\n",
       " u'num_courses_visited': 1,\n",
       " u'projects_completed': 0,\n",
       " u'total_minutes_visited': 11,\n",
       " u'utc_date': datetime.datetime(2015, 1, 9, 0, 0)}"
      ]
     },
     "execution_count": 76,
     "metadata": {},
     "output_type": "execute_result"
    }
   ],
   "source": [
    "daily_engagement[0]"
   ]
  },
  {
   "cell_type": "code",
   "execution_count": 77,
   "metadata": {},
   "outputs": [
    {
     "data": {
      "text/plain": [
       "{u'account_key': u'256',\n",
       " u'assigned_rating': u'UNGRADED',\n",
       " u'completion_date': datetime.datetime(2015, 1, 16, 0, 0),\n",
       " u'creation_date': datetime.datetime(2015, 1, 14, 0, 0),\n",
       " u'lesson_key': u'3176718735',\n",
       " u'processing_state': u'EVALUATED'}"
      ]
     },
     "execution_count": 77,
     "metadata": {},
     "output_type": "execute_result"
    }
   ],
   "source": [
    "project_submissions[0]"
   ]
  },
  {
   "cell_type": "code",
   "execution_count": 78,
   "metadata": {},
   "outputs": [
    {
     "ename": "KeyError",
     "evalue": "'acct'",
     "output_type": "error",
     "traceback": [
      "\u001b[0;31m---------------------------------------------------------------------------\u001b[0m",
      "\u001b[0;31mKeyError\u001b[0m                                  Traceback (most recent call last)",
      "\u001b[0;32m<ipython-input-78-709c2b76561a>\u001b[0m in \u001b[0;36m<module>\u001b[0;34m()\u001b[0m\n\u001b[1;32m      1\u001b[0m \u001b[0;32mfor\u001b[0m \u001b[0mentry\u001b[0m \u001b[0;32min\u001b[0m \u001b[0mdaily_engagement\u001b[0m\u001b[0;34m:\u001b[0m\u001b[0;34m\u001b[0m\u001b[0m\n\u001b[0;32m----> 2\u001b[0;31m     \u001b[0mentry\u001b[0m\u001b[0;34m[\u001b[0m\u001b[0;34m'account_key'\u001b[0m\u001b[0;34m]\u001b[0m \u001b[0;34m=\u001b[0m \u001b[0mentry\u001b[0m\u001b[0;34m[\u001b[0m\u001b[0;34m'acct'\u001b[0m\u001b[0;34m]\u001b[0m\u001b[0;34m\u001b[0m\u001b[0m\n\u001b[0m\u001b[1;32m      3\u001b[0m     \u001b[0;32mdel\u001b[0m \u001b[0mentry\u001b[0m\u001b[0;34m[\u001b[0m\u001b[0;34m'acct'\u001b[0m\u001b[0;34m]\u001b[0m\u001b[0;34m\u001b[0m\u001b[0m\n",
      "\u001b[0;31mKeyError\u001b[0m: 'acct'"
     ]
    }
   ],
   "source": [
    "for entry in daily_engagement:\n",
    "    entry['account_key'] = entry['acct']\n",
    "    del entry['acct']"
   ]
  },
  {
   "cell_type": "code",
   "execution_count": 79,
   "metadata": {
    "collapsed": true
   },
   "outputs": [],
   "source": [
    "def set_of_unique_students(dictionary):\n",
    "    result = set()\n",
    "    for listing in dictionary:\n",
    "        result.add(listing['account_key'])\n",
    "    return result"
   ]
  },
  {
   "cell_type": "code",
   "execution_count": 80,
   "metadata": {},
   "outputs": [
    {
     "name": "stdout",
     "output_type": "stream",
     "text": [
      "Number of rows in enrollments: 1640\n",
      "Number of acct keys in enrollments: 1302\n"
     ]
    }
   ],
   "source": [
    "print \"Number of rows in enrollments:\", len(enrollments)\n",
    "print \"Number of acct keys in enrollments:\", len(set_of_unique_students(enrollments))"
   ]
  },
  {
   "cell_type": "code",
   "execution_count": 81,
   "metadata": {},
   "outputs": [
    {
     "name": "stdout",
     "output_type": "stream",
     "text": [
      "Number of rows in project submissions: 3642\n",
      "Number of acct keys in project submissions: 743\n"
     ]
    }
   ],
   "source": [
    "print \"Number of rows in project submissions:\", len(project_submissions)\n",
    "print \"Number of acct keys in project submissions:\", len(set_of_unique_students(project_submissions))"
   ]
  },
  {
   "cell_type": "code",
   "execution_count": 82,
   "metadata": {},
   "outputs": [
    {
     "name": "stdout",
     "output_type": "stream",
     "text": [
      "Number of rows in daily engagement: 136240\n",
      "Number of acct keys in daily engagement: 1237\n"
     ]
    }
   ],
   "source": [
    "print \"Number of rows in daily engagement:\", len(daily_engagement)\n",
    "print \"Number of acct keys in daily engagement:\", len(set_of_unique_students(daily_engagement))"
   ]
  },
  {
   "cell_type": "code",
   "execution_count": 83,
   "metadata": {},
   "outputs": [
    {
     "data": {
      "text/plain": [
       "{'account_key': u'0',\n",
       " 'has_visited': 1,\n",
       " u'lessons_completed': 0,\n",
       " u'num_courses_visited': 1,\n",
       " u'projects_completed': 0,\n",
       " u'total_minutes_visited': 11,\n",
       " u'utc_date': datetime.datetime(2015, 1, 9, 0, 0)}"
      ]
     },
     "execution_count": 83,
     "metadata": {},
     "output_type": "execute_result"
    }
   ],
   "source": [
    "daily_engagement[0]"
   ]
  },
  {
   "cell_type": "code",
   "execution_count": 84,
   "metadata": {},
   "outputs": [
    {
     "data": {
      "text/plain": [
       "{u'account_key': u'448',\n",
       " u'cancel_date': datetime.datetime(2015, 1, 14, 0, 0),\n",
       " u'days_to_cancel': 65,\n",
       " u'is_canceled': True,\n",
       " u'is_udacity': True,\n",
       " u'join_date': datetime.datetime(2014, 11, 10, 0, 0),\n",
       " u'status': u'canceled'}"
      ]
     },
     "execution_count": 84,
     "metadata": {},
     "output_type": "execute_result"
    }
   ],
   "source": [
    "enrollments[0]"
   ]
  },
  {
   "cell_type": "code",
   "execution_count": 85,
   "metadata": {
    "collapsed": true
   },
   "outputs": [],
   "source": [
    "examples = [1145,817,737,717,711,914,1069, 1010,1025]"
   ]
  },
  {
   "cell_type": "code",
   "execution_count": 86,
   "metadata": {},
   "outputs": [
    {
     "name": "stdout",
     "output_type": "stream",
     "text": [
      "{u'status': u'canceled', u'is_udacity': False, u'is_canceled': True, u'join_date': datetime.datetime(2014, 12, 4, 0, 0), u'account_key': u'717', u'cancel_date': datetime.datetime(2014, 12, 4, 0, 0), u'days_to_cancel': 0}\n"
     ]
    }
   ],
   "source": [
    "for entry in enrollments:\n",
    "    if entry['account_key'] == \"717\":\n",
    "        print entry"
   ]
  },
  {
   "cell_type": "code",
   "execution_count": 87,
   "metadata": {},
   "outputs": [
    {
     "name": "stdout",
     "output_type": "stream",
     "text": [
      "{u'lessons_completed': 0, u'num_courses_visited': 1, 'has_visited': 1, u'total_minutes_visited': 7, u'projects_completed': 0, 'account_key': u'1140', u'utc_date': datetime.datetime(2015, 1, 10, 0, 0)}\n",
      "{u'lessons_completed': 0, u'num_courses_visited': 1, 'has_visited': 1, u'total_minutes_visited': 92, u'projects_completed': 0, 'account_key': u'1140', u'utc_date': datetime.datetime(2015, 1, 11, 0, 0)}\n",
      "{u'lessons_completed': 1, u'num_courses_visited': 1, 'has_visited': 1, u'total_minutes_visited': 30, u'projects_completed': 0, 'account_key': u'1140', u'utc_date': datetime.datetime(2015, 1, 12, 0, 0)}\n",
      "{u'lessons_completed': 0, u'num_courses_visited': 0, 'has_visited': 0, u'total_minutes_visited': 0, u'projects_completed': 0, 'account_key': u'1140', u'utc_date': datetime.datetime(2015, 1, 13, 0, 0)}\n",
      "{u'lessons_completed': 0, u'num_courses_visited': 0, 'has_visited': 0, u'total_minutes_visited': 0, u'projects_completed': 0, 'account_key': u'1140', u'utc_date': datetime.datetime(2015, 1, 14, 0, 0)}\n",
      "{u'lessons_completed': 0, u'num_courses_visited': 0, 'has_visited': 0, u'total_minutes_visited': 0, u'projects_completed': 0, 'account_key': u'1140', u'utc_date': datetime.datetime(2015, 1, 15, 0, 0)}\n",
      "{u'lessons_completed': 0, u'num_courses_visited': 0, 'has_visited': 0, u'total_minutes_visited': 0, u'projects_completed': 0, 'account_key': u'1140', u'utc_date': datetime.datetime(2015, 1, 16, 0, 0)}\n",
      "{u'lessons_completed': 1, u'num_courses_visited': 1, u'total_minutes_visited': 78, u'projects_completed': 0, 'account_key': u'1140', u'utc_date': datetime.datetime(2015, 1, 17, 0, 0)}\n",
      "{u'lessons_completed': 1, u'num_courses_visited': 1, u'total_minutes_visited': 194, u'projects_completed': 0, 'account_key': u'1140', u'utc_date': datetime.datetime(2015, 1, 18, 0, 0)}\n",
      "{u'lessons_completed': 0, u'num_courses_visited': 0, u'total_minutes_visited': 0, u'projects_completed': 0, 'account_key': u'1140', u'utc_date': datetime.datetime(2015, 1, 19, 0, 0)}\n",
      "{u'lessons_completed': 0, u'num_courses_visited': 0, u'total_minutes_visited': 0, u'projects_completed': 0, 'account_key': u'1140', u'utc_date': datetime.datetime(2015, 1, 20, 0, 0)}\n",
      "{u'lessons_completed': 0, u'num_courses_visited': 0, u'total_minutes_visited': 0, u'projects_completed': 0, 'account_key': u'1140', u'utc_date': datetime.datetime(2015, 1, 21, 0, 0)}\n",
      "{u'lessons_completed': 0, u'num_courses_visited': 0, u'total_minutes_visited': 0, u'projects_completed': 0, 'account_key': u'1140', u'utc_date': datetime.datetime(2015, 1, 22, 0, 0)}\n",
      "{u'lessons_completed': 0, u'num_courses_visited': 0, u'total_minutes_visited': 0, u'projects_completed': 0, 'account_key': u'1140', u'utc_date': datetime.datetime(2015, 1, 23, 0, 0)}\n",
      "{u'lessons_completed': 0, u'num_courses_visited': 0, u'total_minutes_visited': 0, u'projects_completed': 0, 'account_key': u'1140', u'utc_date': datetime.datetime(2015, 1, 24, 0, 0)}\n",
      "{u'lessons_completed': 0, u'num_courses_visited': 1, u'total_minutes_visited': 89, u'projects_completed': 0, 'account_key': u'1140', u'utc_date': datetime.datetime(2015, 1, 25, 0, 0)}\n",
      "{u'lessons_completed': 0, u'num_courses_visited': 0, u'total_minutes_visited': 0, u'projects_completed': 0, 'account_key': u'1140', u'utc_date': datetime.datetime(2015, 1, 26, 0, 0)}\n",
      "{u'lessons_completed': 0, u'num_courses_visited': 0, u'total_minutes_visited': 0, u'projects_completed': 0, 'account_key': u'1140', u'utc_date': datetime.datetime(2015, 1, 27, 0, 0)}\n",
      "{u'lessons_completed': 0, u'num_courses_visited': 1, u'total_minutes_visited': 26, u'projects_completed': 0, 'account_key': u'1140', u'utc_date': datetime.datetime(2015, 1, 28, 0, 0)}\n",
      "{u'lessons_completed': 0, u'num_courses_visited': 0, u'total_minutes_visited': 0, u'projects_completed': 0, 'account_key': u'1140', u'utc_date': datetime.datetime(2015, 1, 29, 0, 0)}\n",
      "{u'lessons_completed': 0, u'num_courses_visited': 0, u'total_minutes_visited': 0, u'projects_completed': 0, 'account_key': u'1140', u'utc_date': datetime.datetime(2015, 1, 30, 0, 0)}\n",
      "{u'lessons_completed': 0, u'num_courses_visited': 0, u'total_minutes_visited': 0, u'projects_completed': 0, 'account_key': u'1140', u'utc_date': datetime.datetime(2015, 1, 31, 0, 0)}\n",
      "{u'lessons_completed': 0, u'num_courses_visited': 0, u'total_minutes_visited': 0, u'projects_completed': 0, 'account_key': u'1140', u'utc_date': datetime.datetime(2015, 2, 1, 0, 0)}\n",
      "{u'lessons_completed': 0, u'num_courses_visited': 0, u'total_minutes_visited': 0, u'projects_completed': 0, 'account_key': u'1140', u'utc_date': datetime.datetime(2015, 2, 2, 0, 0)}\n",
      "{u'lessons_completed': 0, u'num_courses_visited': 0, u'total_minutes_visited': 0, u'projects_completed': 0, 'account_key': u'1140', u'utc_date': datetime.datetime(2015, 2, 3, 0, 0)}\n",
      "{u'lessons_completed': 0, u'num_courses_visited': 0, u'total_minutes_visited': 0, u'projects_completed': 0, 'account_key': u'1140', u'utc_date': datetime.datetime(2015, 2, 4, 0, 0)}\n",
      "{u'lessons_completed': 0, u'num_courses_visited': 0, u'total_minutes_visited': 0, u'projects_completed': 0, 'account_key': u'1140', u'utc_date': datetime.datetime(2015, 2, 5, 0, 0)}\n",
      "{u'lessons_completed': 0, u'num_courses_visited': 0, u'total_minutes_visited': 0, u'projects_completed': 0, 'account_key': u'1140', u'utc_date': datetime.datetime(2015, 2, 6, 0, 0)}\n",
      "{u'lessons_completed': 0, u'num_courses_visited': 0, u'total_minutes_visited': 0, u'projects_completed': 0, 'account_key': u'1140', u'utc_date': datetime.datetime(2015, 2, 7, 0, 0)}\n",
      "{u'lessons_completed': 0, u'num_courses_visited': 0, u'total_minutes_visited': 0, u'projects_completed': 0, 'account_key': u'1140', u'utc_date': datetime.datetime(2015, 2, 8, 0, 0)}\n",
      "{u'lessons_completed': 0, u'num_courses_visited': 0, u'total_minutes_visited': 0, u'projects_completed': 0, 'account_key': u'1140', u'utc_date': datetime.datetime(2015, 2, 9, 0, 0)}\n",
      "{u'lessons_completed': 0, u'num_courses_visited': 0, u'total_minutes_visited': 0, u'projects_completed': 0, 'account_key': u'1140', u'utc_date': datetime.datetime(2015, 2, 10, 0, 0)}\n",
      "{u'lessons_completed': 0, u'num_courses_visited': 0, u'total_minutes_visited': 0, u'projects_completed': 0, 'account_key': u'1140', u'utc_date': datetime.datetime(2015, 2, 11, 0, 0)}\n",
      "{u'lessons_completed': 0, u'num_courses_visited': 0, u'total_minutes_visited': 0, u'projects_completed': 0, 'account_key': u'1140', u'utc_date': datetime.datetime(2015, 2, 12, 0, 0)}\n",
      "{u'lessons_completed': 0, u'num_courses_visited': 0, u'total_minutes_visited': 0, u'projects_completed': 0, 'account_key': u'1140', u'utc_date': datetime.datetime(2015, 2, 13, 0, 0)}\n",
      "{u'lessons_completed': 0, u'num_courses_visited': 0, u'total_minutes_visited': 0, u'projects_completed': 0, 'account_key': u'1140', u'utc_date': datetime.datetime(2015, 2, 14, 0, 0)}\n",
      "{u'lessons_completed': 0, u'num_courses_visited': 0, u'total_minutes_visited': 0, u'projects_completed': 0, 'account_key': u'1140', u'utc_date': datetime.datetime(2015, 2, 15, 0, 0)}\n",
      "{u'lessons_completed': 0, u'num_courses_visited': 0, u'total_minutes_visited': 0, u'projects_completed': 0, 'account_key': u'1140', u'utc_date': datetime.datetime(2015, 2, 16, 0, 0)}\n"
     ]
    }
   ],
   "source": [
    "for entry in daily_engagement:\n",
    "    if entry['account_key'] == '1140':\n",
    "        print entry"
   ]
  },
  {
   "cell_type": "code",
   "execution_count": 88,
   "metadata": {
    "collapsed": true
   },
   "outputs": [],
   "source": [
    "unmatched = (set_of_unique_students(enrollments) ^ set_of_unique_students(daily_engagement))"
   ]
  },
  {
   "cell_type": "code",
   "execution_count": 89,
   "metadata": {},
   "outputs": [
    {
     "name": "stdout",
     "output_type": "stream",
     "text": [
      "set([u'737', u'902', u'1213', u'749', u'1191', u'1171', u'1270', u'1284', u'1304', u'1086', u'884', u'889', u'1044', u'1148', u'664', u'1010', u'1238', u'964', u'968', u'1241', u'878', u'875', u'870', u'871', u'1155', u'803', u'802', u'766', u'1079', u'1145', u'819', u'817', u'717', u'711', u'1069', u'1063', u'1129', u'1120', u'1125', u'1237', u'1190', u'707', u'799', u'1222', u'654', u'997', u'996', u'926', u'789', u'1025', u'1273', u'1101', u'981', u'914', u'841', u'733', u'750', u'739', u'1186', u'727', u'725', u'728', u'1291', u'1218', u'1219'])\n"
     ]
    }
   ],
   "source": [
    "print unmatched"
   ]
  },
  {
   "cell_type": "code",
   "execution_count": 90,
   "metadata": {},
   "outputs": [
    {
     "name": "stdout",
     "output_type": "stream",
     "text": [
      "{u'status': u'canceled', u'is_udacity': True, u'is_canceled': True, u'join_date': datetime.datetime(2015, 1, 10, 0, 0), u'account_key': u'1304', u'cancel_date': datetime.datetime(2015, 3, 10, 0, 0), u'days_to_cancel': 59} \n",
      "\n",
      "\n",
      "{u'status': u'canceled', u'is_udacity': True, u'is_canceled': True, u'join_date': datetime.datetime(2015, 3, 10, 0, 0), u'account_key': u'1304', u'cancel_date': datetime.datetime(2015, 6, 17, 0, 0), u'days_to_cancel': 99} \n",
      "\n",
      "\n",
      "{u'status': u'current', u'is_udacity': True, u'is_canceled': False, u'join_date': datetime.datetime(2015, 2, 25, 0, 0), u'account_key': u'1101', u'cancel_date': None, u'days_to_cancel': None} \n",
      "\n",
      "\n"
     ]
    }
   ],
   "source": [
    "result = []\n",
    "for entry in enrollments:\n",
    "    for code in unmatched:\n",
    "        if code == entry['account_key']:\n",
    "            result.append(entry)\n",
    "for listing in result:\n",
    "    if listing['days_to_cancel'] != 0:\n",
    "        print \"%r \\n\\n\" % (listing)"
   ]
  },
  {
   "cell_type": "code",
   "execution_count": 91,
   "metadata": {},
   "outputs": [
    {
     "data": {
      "text/plain": [
       "71"
      ]
     },
     "execution_count": 91,
     "metadata": {},
     "output_type": "execute_result"
    }
   ],
   "source": [
    "len(result)"
   ]
  },
  {
   "cell_type": "code",
   "execution_count": 92,
   "metadata": {},
   "outputs": [
    {
     "data": {
      "text/plain": [
       "6"
      ]
     },
     "execution_count": 92,
     "metadata": {},
     "output_type": "execute_result"
    }
   ],
   "source": [
    "udacity_test_accts = set()\n",
    "for entry in enrollments:\n",
    "    if entry['is_udacity'] == True:\n",
    "        udacity_test_accts.add(entry['account_key'])\n",
    "len(udacity_test_accts)"
   ]
  },
  {
   "cell_type": "code",
   "execution_count": 93,
   "metadata": {
    "collapsed": true
   },
   "outputs": [],
   "source": [
    "def remove_test_accts(data):\n",
    "    not_test_accts = []\n",
    "    for entry in data:\n",
    "        if entry['account_key'] not in udacity_test_accts:\n",
    "            not_test_accts.append(entry)\n",
    "    return not_test_accts"
   ]
  },
  {
   "cell_type": "code",
   "execution_count": 94,
   "metadata": {},
   "outputs": [
    {
     "name": "stdout",
     "output_type": "stream",
     "text": [
      "1622\n",
      "135656\n",
      "3634\n"
     ]
    }
   ],
   "source": [
    "non_u_enrollments = remove_test_accts(enrollments)\n",
    "non_u_engagement = remove_test_accts(daily_engagement)\n",
    "non_u_project_submissions = remove_test_accts(project_submissions)\n",
    "\n",
    "print len(non_u_enrollments)\n",
    "print len(non_u_engagement)\n",
    "print len(non_u_project_submissions)"
   ]
  },
  {
   "cell_type": "code",
   "execution_count": 95,
   "metadata": {},
   "outputs": [
    {
     "data": {
      "text/plain": [
       "1296"
      ]
     },
     "execution_count": 95,
     "metadata": {},
     "output_type": "execute_result"
    }
   ],
   "source": [
    "len(set_of_unique_students(non_u_enrollments))"
   ]
  },
  {
   "cell_type": "code",
   "execution_count": 28,
   "metadata": {},
   "outputs": [
    {
     "data": {
      "text/plain": [
       "995"
      ]
     },
     "execution_count": 28,
     "metadata": {},
     "output_type": "execute_result"
    }
   ],
   "source": [
    "paid_students = {}\n",
    "\n",
    "for entry in non_u_enrollments:\n",
    "    if entry['days_to_cancel'] == None or entry['days_to_cancel'] > 7:\n",
    "        account_key = entry['account_key']\n",
    "        enrollment_date = entry['join_date']\n",
    "        \n",
    "        if account_key not in paid_students or \\\n",
    "                enrollment_date > paid_students[account_key]:\n",
    "            paid_students[account_key] = enrollment_date\n",
    "    \n",
    "len(paid_students)"
   ]
  },
  {
   "cell_type": "markdown",
   "metadata": {},
   "source": [
    "### Seven Days ###\n",
    "\n",
    "Create a list of rows from the engagement table including only rows\n",
    "where the student is one of the paid students, and the\n",
    "date is within one week of the student's join date."
   ]
  },
  {
   "cell_type": "code",
   "execution_count": 29,
   "metadata": {
    "collapsed": true
   },
   "outputs": [],
   "source": [
    "def within_one_week(join_date, engagement_date):\n",
    "    \"\"\"\n",
    "    function that takes a student's join date and the date of a \n",
    "    specific engagement record and returns True if that engagement record\n",
    "    happened within one week of the student's joining.\n",
    "    \"\"\"\n",
    "    time_delta = engagement_date - join_date\n",
    "    return time_delta.days < 7 and time_delta.days >= 0"
   ]
  },
  {
   "cell_type": "code",
   "execution_count": 30,
   "metadata": {
    "collapsed": true
   },
   "outputs": [],
   "source": [
    "def remove_free_trial_cancels(data):\n",
    "    new_data = []\n",
    "    for entry in data:\n",
    "        if entry['account_key'] in paid_students:\n",
    "            new_data.append(entry)\n",
    "    return new_data"
   ]
  },
  {
   "cell_type": "code",
   "execution_count": 31,
   "metadata": {},
   "outputs": [
    {
     "name": "stdout",
     "output_type": "stream",
     "text": [
      "134549\n",
      "1293\n",
      "3618\n"
     ]
    }
   ],
   "source": [
    "paid_engagement = remove_free_trial_cancels(non_u_engagement)\n",
    "paid_enrollments = remove_free_trial_cancels(non_u_enrollments)\n",
    "paid_project_submissions = remove_free_trial_cancels(non_u_project_submissions)\n",
    "\n",
    "print len(paid_engagement)\n",
    "print len(paid_enrollments)\n",
    "print len(paid_project_submissions)"
   ]
  },
  {
   "cell_type": "code",
   "execution_count": 32,
   "metadata": {},
   "outputs": [
    {
     "name": "stdout",
     "output_type": "stream",
     "text": [
      "{u'lessons_completed': 1, u'num_courses_visited': 1, u'total_minutes_visited': 151, u'projects_completed': 0, 'account_key': u'0', u'utc_date': datetime.datetime(2015, 1, 14, 0, 0)}\n"
     ]
    }
   ],
   "source": [
    "print paid_engagement[5]"
   ]
  },
  {
   "cell_type": "code",
   "execution_count": 33,
   "metadata": {},
   "outputs": [
    {
     "data": {
      "text/plain": [
       "6919"
      ]
     },
     "execution_count": 33,
     "metadata": {},
     "output_type": "execute_result"
    }
   ],
   "source": [
    "paid_engagement_in_first_week = []\n",
    "\n",
    "for entry in paid_engagement:\n",
    "    acct_key = entry['account_key']\n",
    "    join_date = paid_students[acct_key]\n",
    "    engagement_date = entry['utc_date']\n",
    "    if within_one_week(join_date, engagement_date):\n",
    "            paid_engagement_in_first_week.append(entry)\n",
    "\n",
    "len(paid_engagement_in_first_week)"
   ]
  },
  {
   "cell_type": "code",
   "execution_count": 34,
   "metadata": {
    "collapsed": true
   },
   "outputs": [],
   "source": [
    "# grouping data by student to analyze engagement during the first week (in mins)"
   ]
  },
  {
   "cell_type": "code",
   "execution_count": 35,
   "metadata": {
    "collapsed": true
   },
   "outputs": [],
   "source": [
    "from collections import defaultdict"
   ]
  },
  {
   "cell_type": "code",
   "execution_count": 36,
   "metadata": {
    "collapsed": true
   },
   "outputs": [],
   "source": [
    "def group_data(data_source, group_by_field):\n",
    "    output = defaultdict(list)\n",
    "    for entry in data_source:\n",
    "        group = entry[str(group_by_field)]\n",
    "        output[group].append(entry)\n",
    "    return output\n",
    "\n",
    "# engagement_by_acct_key = defaultdict(list)\n",
    "# for entry in paid_engagement_in_first_week:\n",
    "#     acct_key = entry['account_key']\n",
    "#     engagement_by_acct_key[acct_key].append(entry)"
   ]
  },
  {
   "cell_type": "code",
   "execution_count": 37,
   "metadata": {},
   "outputs": [
    {
     "name": "stdout",
     "output_type": "stream",
     "text": [
      "995\n"
     ]
    }
   ],
   "source": [
    "engagement_by_acct_key = group_data(paid_engagement_in_first_week, 'account_key')\n",
    "print len(engagement_by_acct_key)"
   ]
  },
  {
   "cell_type": "code",
   "execution_count": 38,
   "metadata": {
    "collapsed": true
   },
   "outputs": [],
   "source": [
    "def calculate_grouped_list(data_source, key_name):\n",
    "    totals_by_student = {}\n",
    "    for key, grouped_data in data_source.items():\n",
    "        current_sum = 0.0\n",
    "        for entry in grouped_data:\n",
    "            current_sum += entry[key_name]\n",
    "        totals_by_student[key] = current_sum\n",
    "    return totals_by_student"
   ]
  },
  {
   "cell_type": "code",
   "execution_count": 39,
   "metadata": {
    "collapsed": true
   },
   "outputs": [],
   "source": [
    "# calculates each student's total min visited and stores just the acct_key and total_min to a dict\n",
    "total_minutes = calculate_grouped_list(engagement_by_acct_key, 'total_minutes_visited')"
   ]
  },
  {
   "cell_type": "code",
   "execution_count": 40,
   "metadata": {
    "collapsed": true
   },
   "outputs": [],
   "source": [
    "import numpy as np"
   ]
  },
  {
   "cell_type": "code",
   "execution_count": 41,
   "metadata": {
    "collapsed": true
   },
   "outputs": [],
   "source": [
    "def print_some_stats(list_of_values):\n",
    "    print \"Mean:\", np.mean(list_of_values)\n",
    "    print \"Standard Dev:\", np.std(list_of_values)\n",
    "    print \"Maximum:\", np.max(list_of_values)\n",
    "    print \"Minimum:\", np.min(list_of_values)"
   ]
  },
  {
   "cell_type": "code",
   "execution_count": 42,
   "metadata": {},
   "outputs": [
    {
     "name": "stdout",
     "output_type": "stream",
     "text": [
      "Mean: 305.285427136\n",
      "Standard Dev: 412.107180939\n",
      "Maximum: 3562.0\n",
      "Minimum: 0.0\n"
     ]
    }
   ],
   "source": [
    "print_some_stats(total_minutes.values())"
   ]
  },
  {
   "cell_type": "code",
   "execution_count": 43,
   "metadata": {
    "collapsed": true
   },
   "outputs": [],
   "source": [
    "# for entry in paid_engagement_in_first_week:\n",
    "#     if entry['account_key'] == '108':\n",
    "#         print entry\n",
    "# for entry in paid_enrollments:\n",
    "#     if entry['account_key'] == '108':\n",
    "#         print entry"
   ]
  },
  {
   "cell_type": "code",
   "execution_count": 44,
   "metadata": {},
   "outputs": [
    {
     "data": {
      "text/plain": [
       "995"
      ]
     },
     "execution_count": 44,
     "metadata": {},
     "output_type": "execute_result"
    }
   ],
   "source": [
    "lesson_totals_by_student = calculate_grouped_list(engagement_by_acct_key, 'lessons_completed')\n",
    "\n",
    "len(lesson_totals_by_student)"
   ]
  },
  {
   "cell_type": "code",
   "execution_count": 45,
   "metadata": {},
   "outputs": [
    {
     "name": "stdout",
     "output_type": "stream",
     "text": [
      "Mean: 1.63618090452\n",
      "Standard Dev: 3.00256129983\n",
      "Maximum: 36.0\n",
      "Minimum: 0.0\n"
     ]
    }
   ],
   "source": [
    "print_some_stats(lesson_totals_by_student.values())"
   ]
  },
  {
   "cell_type": "code",
   "execution_count": 46,
   "metadata": {
    "collapsed": true
   },
   "outputs": [],
   "source": [
    "courses_visited_by_student = calculate_grouped_list(engagement_by_acct_key, 'num_courses_visited')"
   ]
  },
  {
   "cell_type": "code",
   "execution_count": 47,
   "metadata": {},
   "outputs": [
    {
     "name": "stdout",
     "output_type": "stream",
     "text": [
      "Mean: 3.97889447236\n",
      "Standard Dev: 3.5912451871\n",
      "Maximum: 25.0\n",
      "Minimum: 0.0\n"
     ]
    }
   ],
   "source": [
    "print_some_stats(courses_visited_by_student.values())"
   ]
  },
  {
   "cell_type": "code",
   "execution_count": 48,
   "metadata": {
    "scrolled": true
   },
   "outputs": [
    {
     "data": {
      "text/plain": [
       "{'account_key': u'0',\n",
       " u'lessons_completed': 1,\n",
       " u'num_courses_visited': 1,\n",
       " u'projects_completed': 0,\n",
       " u'total_minutes_visited': 151,\n",
       " u'utc_date': datetime.datetime(2015, 1, 14, 0, 0)}"
      ]
     },
     "execution_count": 48,
     "metadata": {},
     "output_type": "execute_result"
    }
   ],
   "source": [
    "paid_engagement_in_first_week[5]"
   ]
  },
  {
   "cell_type": "code",
   "execution_count": 49,
   "metadata": {
    "scrolled": true
   },
   "outputs": [
    {
     "name": "stdout",
     "output_type": "stream",
     "text": [
      "[{u'lessons_completed': 0, u'num_courses_visited': 1, u'total_minutes_visited': 59, u'projects_completed': 0, 'account_key': u'5', u'utc_date': datetime.datetime(2015, 1, 7, 0, 0)}, {u'lessons_completed': 0, u'num_courses_visited': 0, u'total_minutes_visited': 0, u'projects_completed': 0, 'account_key': u'5', u'utc_date': datetime.datetime(2015, 1, 8, 0, 0)}, {u'lessons_completed': 0, u'num_courses_visited': 2, u'total_minutes_visited': 103, u'projects_completed': 0, 'account_key': u'5', u'utc_date': datetime.datetime(2015, 1, 9, 0, 0)}, {u'lessons_completed': 0, u'num_courses_visited': 1, u'total_minutes_visited': 80, u'projects_completed': 0, 'account_key': u'5', u'utc_date': datetime.datetime(2015, 1, 10, 0, 0)}, {u'lessons_completed': 0, u'num_courses_visited': 1, u'total_minutes_visited': 36, u'projects_completed': 0, 'account_key': u'5', u'utc_date': datetime.datetime(2015, 1, 11, 0, 0)}, {u'lessons_completed': 0, u'num_courses_visited': 1, u'total_minutes_visited': 50, u'projects_completed': 0, 'account_key': u'5', u'utc_date': datetime.datetime(2015, 1, 12, 0, 0)}, {u'lessons_completed': 0, u'num_courses_visited': 0, u'total_minutes_visited': 0, u'projects_completed': 0, 'account_key': u'5', u'utc_date': datetime.datetime(2015, 1, 13, 0, 0)}]\n"
     ]
    }
   ],
   "source": [
    "print engagement_by_acct_key['5']"
   ]
  },
  {
   "cell_type": "code",
   "execution_count": 50,
   "metadata": {
    "collapsed": true
   },
   "outputs": [],
   "source": [
    "engage_by_key = group_data(paid_engagement_in_first_week, 'account_key')\n",
    "\n",
    "def add_visit_score(data_source):\n",
    "    for entry in data_source:\n",
    "        for record in data_source[entry]:\n",
    "            if record['num_courses_visited'] > 0:\n",
    "                record['has_visited'] = 1\n",
    "            else:\n",
    "                record['has_visited'] = 0"
   ]
  },
  {
   "cell_type": "code",
   "execution_count": 51,
   "metadata": {
    "collapsed": true
   },
   "outputs": [],
   "source": [
    "# this only adds the score to the data created from the first week. \n",
    "# BEWARE!! May want to analyze all engagement, and will need to \n",
    "# rerun the add_visit_score on the engagement table from an earlier cell.\n",
    "# Lesson #20 explains the potential probs here.\n",
    "\n",
    "add_visit_score(engage_by_key)"
   ]
  },
  {
   "cell_type": "code",
   "execution_count": 52,
   "metadata": {},
   "outputs": [
    {
     "data": {
      "text/plain": [
       "[{'account_key': u'5',\n",
       "  'has_visited': 1,\n",
       "  u'lessons_completed': 0,\n",
       "  u'num_courses_visited': 1,\n",
       "  u'projects_completed': 0,\n",
       "  u'total_minutes_visited': 59,\n",
       "  u'utc_date': datetime.datetime(2015, 1, 7, 0, 0)},\n",
       " {'account_key': u'5',\n",
       "  'has_visited': 0,\n",
       "  u'lessons_completed': 0,\n",
       "  u'num_courses_visited': 0,\n",
       "  u'projects_completed': 0,\n",
       "  u'total_minutes_visited': 0,\n",
       "  u'utc_date': datetime.datetime(2015, 1, 8, 0, 0)},\n",
       " {'account_key': u'5',\n",
       "  'has_visited': 1,\n",
       "  u'lessons_completed': 0,\n",
       "  u'num_courses_visited': 2,\n",
       "  u'projects_completed': 0,\n",
       "  u'total_minutes_visited': 103,\n",
       "  u'utc_date': datetime.datetime(2015, 1, 9, 0, 0)},\n",
       " {'account_key': u'5',\n",
       "  'has_visited': 1,\n",
       "  u'lessons_completed': 0,\n",
       "  u'num_courses_visited': 1,\n",
       "  u'projects_completed': 0,\n",
       "  u'total_minutes_visited': 80,\n",
       "  u'utc_date': datetime.datetime(2015, 1, 10, 0, 0)},\n",
       " {'account_key': u'5',\n",
       "  'has_visited': 1,\n",
       "  u'lessons_completed': 0,\n",
       "  u'num_courses_visited': 1,\n",
       "  u'projects_completed': 0,\n",
       "  u'total_minutes_visited': 36,\n",
       "  u'utc_date': datetime.datetime(2015, 1, 11, 0, 0)},\n",
       " {'account_key': u'5',\n",
       "  'has_visited': 1,\n",
       "  u'lessons_completed': 0,\n",
       "  u'num_courses_visited': 1,\n",
       "  u'projects_completed': 0,\n",
       "  u'total_minutes_visited': 50,\n",
       "  u'utc_date': datetime.datetime(2015, 1, 12, 0, 0)},\n",
       " {'account_key': u'5',\n",
       "  'has_visited': 0,\n",
       "  u'lessons_completed': 0,\n",
       "  u'num_courses_visited': 0,\n",
       "  u'projects_completed': 0,\n",
       "  u'total_minutes_visited': 0,\n",
       "  u'utc_date': datetime.datetime(2015, 1, 13, 0, 0)}]"
      ]
     },
     "execution_count": 52,
     "metadata": {},
     "output_type": "execute_result"
    }
   ],
   "source": [
    "engage_by_key['5']"
   ]
  },
  {
   "cell_type": "code",
   "execution_count": 53,
   "metadata": {
    "collapsed": true
   },
   "outputs": [],
   "source": [
    "number_of_days_visited = calculate_grouped_list(engage_by_key, 'has_visited')"
   ]
  },
  {
   "cell_type": "code",
   "execution_count": 54,
   "metadata": {},
   "outputs": [
    {
     "name": "stdout",
     "output_type": "stream",
     "text": [
      "Mean: 2.86733668342\n",
      "Standard Dev: 2.25519800292\n",
      "Maximum: 7.0\n",
      "Minimum: 0.0\n"
     ]
    }
   ],
   "source": [
    "print_some_stats(number_of_days_visited.values())"
   ]
  },
  {
   "cell_type": "markdown",
   "metadata": {},
   "source": [
    "#### 11 ####\n",
    "Create two lists of engagement data for paid students in the first week.\n",
    "\n",
    "The first list should contain data for students who eventually pass the subway project,\n",
    "and the second list should contain data for students who do not."
   ]
  },
  {
   "cell_type": "code",
   "execution_count": 55,
   "metadata": {
    "collapsed": true
   },
   "outputs": [],
   "source": [
    "# ratings are as follows:\n",
    "# blank (not evaluated)\n",
    "# INCOMPLETE (fail)\n",
    "# PASSED (obvs)\n",
    "# DISTINCTION (passed with flying colors)\n",
    "# UNGRADED (couldn't be opened-- not evaluated)"
   ]
  },
  {
   "cell_type": "code",
   "execution_count": 56,
   "metadata": {},
   "outputs": [
    {
     "name": "stdout",
     "output_type": "stream",
     "text": [
      "647\n"
     ]
    }
   ],
   "source": [
    "subway_project_lesson_keys = ['746169184', '3176718735']\n",
    "\n",
    "pass_subway_project = set()\n",
    "\n",
    "for entry in paid_project_submissions:\n",
    "    project = entry['lesson_key']\n",
    "    rating = entry['assigned_rating']\n",
    "    \n",
    "    if project in subway_project_lesson_keys and\\\n",
    "        (rating == 'PASSED' or rating == 'DISTINCTION'):\n",
    "            pass_subway_project.add(entry['account_key'])\n",
    "\n",
    "print len(pass_subway_project)\n",
    "\n",
    "passing_engagement = []\n",
    "non_passing_engagement = []"
   ]
  },
  {
   "cell_type": "code",
   "execution_count": 57,
   "metadata": {
    "collapsed": true
   },
   "outputs": [],
   "source": [
    "for engagement_record in paid_engagement_in_first_week:\n",
    "    if engagement_record['account_key'] in pass_subway_project:\n",
    "        passing_engagement.append(engagement_record)\n",
    "    else:\n",
    "        non_passing_engagement.append(engagement_record)\n"
   ]
  },
  {
   "cell_type": "code",
   "execution_count": 58,
   "metadata": {},
   "outputs": [
    {
     "name": "stdout",
     "output_type": "stream",
     "text": [
      "4527\n",
      "2392\n"
     ]
    }
   ],
   "source": [
    "print len(passing_engagement)\n",
    "print len(non_passing_engagement)"
   ]
  },
  {
   "cell_type": "code",
   "execution_count": 59,
   "metadata": {
    "collapsed": true
   },
   "outputs": [],
   "source": [
    "passing_engagement_by_key = group_data(passing_engagement, 'account_key')\n",
    "non_passing_engagement_by_key = group_data(non_passing_engagement, 'account_key')"
   ]
  },
  {
   "cell_type": "code",
   "execution_count": 60,
   "metadata": {
    "collapsed": true
   },
   "outputs": [],
   "source": [
    "passing_minutes = calculate_grouped_list(passing_engagement_by_key, 'total_minutes_visited')\n",
    "passing_lessons = calculate_grouped_list(passing_engagement_by_key, 'lessons_completed')\n",
    "passing_days = calculate_grouped_list(passing_engagement_by_key, 'has_visited')"
   ]
  },
  {
   "cell_type": "code",
   "execution_count": 61,
   "metadata": {
    "collapsed": true
   },
   "outputs": [],
   "source": [
    "non_passing_minutes = calculate_grouped_list(non_passing_engagement_by_key, 'total_minutes_visited')\n",
    "non_passing_lessons = calculate_grouped_list(non_passing_engagement_by_key, 'lessons_completed')\n",
    "non_passing_days = calculate_grouped_list(non_passing_engagement_by_key, 'has_visited')"
   ]
  },
  {
   "cell_type": "code",
   "execution_count": null,
   "metadata": {
    "collapsed": true
   },
   "outputs": [],
   "source": []
  },
  {
   "cell_type": "raw",
   "metadata": {},
   "source": [
    "9/18:\n",
    "the passing vs failing min means are miscalculated. the stdev seems way too high-- need to review back\n",
    "but i think that there were some incorrect numbers in this data set. did i create a fixed set to work\n",
    "from?\n",
    "\n",
    "9/19: the means are off by about 1.0. not sure if i removed points or what. This may be something to spend time\n",
    "on later and to fix before continuing.\n",
    "St Dev is not too high. A st dev higher than the mean shows a wide range/lots of spread of data points. 95% of\n",
    "a data set should fall within 2 st dev of the mean (mean:1000, st dev: 100, 95% between 800-1200)\n",
    "\n",
    "--in general:\n",
    "\\need a better way to track what formulas and fxs exist to do calculations and their input fields\n",
    "\\need a better way to track old vs new sets of data (could github allow this to be done easily? feel like y)\n",
    "\\need to look at full_engagement_csv to see what else was collected\n",
    "\\READ THE DAMN TABLE DESCRIPTIONS BLONDIE\n",
    "\n",
    "\\Review stats concepts of what stdev means and how to interpret it."
   ]
  },
  {
   "cell_type": "code",
   "execution_count": 62,
   "metadata": {
    "scrolled": true
   },
   "outputs": [
    {
     "name": "stdout",
     "output_type": "stream",
     "text": [
      "Passing minutes:\n",
      "Mean: 392.904173107\n",
      "Standard Dev: 447.62221192\n",
      "Maximum: 3562.0\n",
      "Minimum: 0.0\n",
      "None\n",
      "\n",
      "Failing minutes:\n",
      "Mean: 142.385057471\n",
      "Standard Dev: 268.80340636\n",
      "Maximum: 1765.0\n",
      "Minimum: 0.0\n",
      "None\n"
     ]
    }
   ],
   "source": [
    "print \"Passing minutes:\\n\", print_some_stats(passing_minutes.values())\n",
    "print \"\\nFailing minutes:\\n\", print_some_stats(non_passing_minutes.values())"
   ]
  },
  {
   "cell_type": "code",
   "execution_count": 63,
   "metadata": {},
   "outputs": [
    {
     "name": "stdout",
     "output_type": "stream",
     "text": [
      "Passing lessons:\n",
      "Mean: 2.05255023184\n",
      "Standard Dev: 3.14222705558\n",
      "Maximum: 36.0\n",
      "Minimum: 0.0\n",
      "None\n",
      "\n",
      "Failing lessons:\n",
      "Mean: 0.862068965517\n",
      "Standard Dev: 2.54915994183\n",
      "Maximum: 27.0\n",
      "Minimum: 0.0\n",
      "None\n"
     ]
    }
   ],
   "source": [
    "print \"Passing lessons:\\n\", print_some_stats(passing_lessons.values())\n",
    "print \"\\nFailing lessons:\\n\", print_some_stats(non_passing_lessons.values())"
   ]
  },
  {
   "cell_type": "code",
   "execution_count": 64,
   "metadata": {},
   "outputs": [
    {
     "name": "stdout",
     "output_type": "stream",
     "text": [
      "Passing days visited:\n",
      "Mean: 3.38485316847\n",
      "Standard Dev: 2.25882147092\n",
      "Maximum: 7.0\n",
      "Minimum: 0.0\n",
      "None\n",
      "\n",
      "Failing days visited:\n",
      "Mean: 1.90517241379\n",
      "Standard Dev: 1.90573144136\n",
      "Maximum: 7.0\n",
      "Minimum: 0.0\n",
      "None\n"
     ]
    }
   ],
   "source": [
    "print \"Passing days visited:\\n\", print_some_stats(passing_days.values())\n",
    "print \"\\nFailing days visited:\\n\", print_some_stats(non_passing_days.values())"
   ]
  },
  {
   "cell_type": "code",
   "execution_count": 65,
   "metadata": {
    "collapsed": true
   },
   "outputs": [],
   "source": [
    "%matplotlib inline\n",
    "import matplotlib.pyplot as plt"
   ]
  },
  {
   "cell_type": "code",
   "execution_count": 66,
   "metadata": {
    "collapsed": true
   },
   "outputs": [],
   "source": [
    "hist = {\"Passing Minutes\": passing_minutes.values(),\n",
    "       \"Failing Minutes\": non_passing_minutes.values(),\n",
    "       \"Passing Days\": passing_days.values(),\n",
    "       \"Failing Days\": non_passing_days.values(),\n",
    "       \"Passing Lessons\": passing_lessons.values(),\n",
    "       \"Failing Lessons\": non_passing_lessons.values()}"
   ]
  },
  {
   "cell_type": "code",
   "execution_count": 67,
   "metadata": {},
   "outputs": [
    {
     "data": {
      "image/png": "[encoded data removed]",
      "text/plain": [
       "<matplotlib.figure.Figure at 0x11c6588d0>"
      ]
     },
     "metadata": {},
     "output_type": "display_data"
    }
   ],
   "source": [
    "fig, axs = plt.subplots(3,2)\n",
    "for axs, (name, data_set) in zip(axs.flatten(), hist.iteritems()):\n",
    "    axs.hist(data_set)\n",
    "    axs.set_title(name)\n",
    "\n",
    "plt.subplots_adjust(hspace=2)"
   ]
  },
  {
   "cell_type": "code",
   "execution_count": 71,
   "metadata": {},
   "outputs": [
    {
     "data": {
      "text/plain": [
       "<matplotlib.text.Text at 0x1212cd790>"
      ]
     },
     "execution_count": 71,
     "metadata": {},
     "output_type": "execute_result"
    },
    {
     "data": {
      "image/png": "[encoded data removed]",
      "text/plain": [
       "<matplotlib.figure.Figure at 0x121146410>"
      ]
     },
     "metadata": {},
     "output_type": "display_data"
    }
   ],
   "source": [
    "fig, (axs1, axs2) = plt.subplots(1,2, sharex= True)\n",
    "axs1.hist(passing_minutes.values())\n",
    "axs1.set_title(\"Passing Minutes\")\n",
    "axs2.hist(non_passing_minutes.values())\n",
    "axs2.set_title(\"Non Passing Minutes\")"
   ]
  },
  {
   "cell_type": "code",
   "execution_count": 72,
   "metadata": {},
   "outputs": [
    {
     "data": {
      "text/plain": [
       "<matplotlib.text.Text at 0x12151e5d0>"
      ]
     },
     "execution_count": 72,
     "metadata": {},
     "output_type": "execute_result"
    },
    {
     "data": {
      "image/png": "[encoded data removed]",
      "text/plain": [
       "<matplotlib.figure.Figure at 0x121397c90>"
      ]
     },
     "metadata": {},
     "output_type": "display_data"
    }
   ],
   "source": [
    "fig, (axs1, axs2) = plt.subplots(1,2, sharex= True)\n",
    "axs1.hist(passing_days.values())\n",
    "axs1.set_title(\"Passing Days\")\n",
    "axs2.hist(non_passing_days.values())\n",
    "axs2.set_title(\"Non Passing Days\")"
   ]
  },
  {
   "cell_type": "code",
   "execution_count": 73,
   "metadata": {},
   "outputs": [
    {
     "data": {
      "text/plain": [
       "<matplotlib.text.Text at 0x12176e690>"
      ]
     },
     "execution_count": 73,
     "metadata": {},
     "output_type": "execute_result"
    },
    {
     "data": {
      "image/png": "[encoded data removed]",
      "text/plain": [
       "<matplotlib.figure.Figure at 0x121690090>"
      ]
     },
     "metadata": {},
     "output_type": "display_data"
    }
   ],
   "source": [
    "fig, (axs1, axs2) = plt.subplots(1,2, sharex= True)\n",
    "axs1.hist(passing_lessons.values())\n",
    "axs1.set_title(\"Passing Lessons\")\n",
    "axs2.hist(non_passing_lessons.values())\n",
    "axs2.set_title(\"Non Passing Lessons\")"
   ]
  },
  {
   "cell_type": "code",
   "execution_count": null,
   "metadata": {
    "collapsed": true
   },
   "outputs": [],
   "source": []
  }
 ],
 "metadata": {
  "kernelspec": {
   "display_name": "Python 2",
   "language": "python",
   "name": "python2"
  },
  "language_info": {
   "codemirror_mode": {
    "name": "ipython",
    "version": 2
   },
   "file_extension": ".py",
   "mimetype": "text/x-python",
   "name": "python",
   "nbconvert_exporter": "python",
   "pygments_lexer": "ipython2",
   "version": "2.7.13"
  }
 },
 "nbformat": 4,
 "nbformat_minor": 2
}
